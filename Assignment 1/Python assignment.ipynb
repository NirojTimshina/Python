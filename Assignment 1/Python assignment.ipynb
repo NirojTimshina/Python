{
 "cells": [
  {
   "cell_type": "raw",
   "id": "4af03ec4-887b-4899-8e87-e4aa5ef2ff4a",
   "metadata": {},
   "source": [
    "1) Write a Python program that simulates a basic calculator, performing addition, subtraction,\n",
    "multiplication, and division"
   ]
  },
  {
   "cell_type": "code",
   "execution_count": 1,
   "id": "b324abb2-683c-4a09-90f6-6ce9c76f2311",
   "metadata": {},
   "outputs": [
    {
     "name": "stdin",
     "output_type": "stream",
     "text": [
      "Enter first number:  10\n",
      "Enter operator (+, -, *, /):  +\n",
      "Enter second number:  30\n"
     ]
    },
    {
     "name": "stdout",
     "output_type": "stream",
     "text": [
      "Result: 40.0\n"
     ]
    }
   ],
   "source": [
    "num1 = float(input(\"Enter first number: \"))\n",
    "operator = input(\"Enter operator (+, -, *, /): \")\n",
    "num2 = float(input(\"Enter second number: \"))\n",
    "\n",
    "if operator == \"+\":\n",
    "    result = num1 + num2\n",
    "elif operator == \"-\":\n",
    "    result = num1 - num2\n",
    "elif operator == \"*\":\n",
    "    result = num1 * num2\n",
    "elif operator == \"/\":\n",
    "    if num2 != 0:\n",
    "        result = num1 / num2\n",
    "    else:\n",
    "        result = \"Cannot divide by zero\"\n",
    "else:\n",
    "    result = \"Invalid operator\"\n",
    "\n",
    "print(\"Result:\", result)\n"
   ]
  },
  {
   "cell_type": "raw",
   "id": "a0500319-b89a-4a17-9ac1-e053dccadd3e",
   "metadata": {},
   "source": [
    "2.Write a Python program that converts a given decimal number to its binary equivalent."
   ]
  },
  {
   "cell_type": "code",
   "execution_count": 2,
   "id": "8d64e9d8-7671-41a6-b3fe-1f2609ccd8e6",
   "metadata": {},
   "outputs": [
    {
     "name": "stdin",
     "output_type": "stream",
     "text": [
      "Enter a decimal number:  4\n"
     ]
    },
    {
     "name": "stdout",
     "output_type": "stream",
     "text": [
      "Binary equivalent: 100\n"
     ]
    }
   ],
   "source": [
    "decimal = int(input(\"Enter a decimal number: \"))\n",
    "binary = bin(decimal)[2:]\n",
    "print(\"Binary equivalent:\", binary)\n"
   ]
  },
  {
   "cell_type": "raw",
   "id": "dc0e6a6d-147b-4acd-85d3-fc1aae5a6d8c",
   "metadata": {},
   "source": [
    "3) Write a Python program that asks for the user's age and then prints a message stating whether\n",
    "the user is a minor, an adult, or a senior"
   ]
  },
  {
   "cell_type": "code",
   "execution_count": 3,
   "id": "e5dc19df-8d5b-41bf-9cd9-d12c8f4000d9",
   "metadata": {},
   "outputs": [
    {
     "name": "stdin",
     "output_type": "stream",
     "text": [
      "Enter your age:  18\n"
     ]
    },
    {
     "name": "stdout",
     "output_type": "stream",
     "text": [
      "You are an adult.\n"
     ]
    }
   ],
   "source": [
    "age = int(input(\"Enter your age: \"))\n",
    "\n",
    "if age < 18:\n",
    "    print(\"You are a minor.\")\n",
    "elif age < 60:\n",
    "    print(\"You are an adult.\")\n",
    "else:\n",
    "    print(\"You are a senior.\")\n"
   ]
  },
  {
   "cell_type": "raw",
   "id": "f79d9294-7968-4e28-8c4a-a7d4575882c4",
   "metadata": {},
   "source": [
    "4) Write a Python program to swap the values of two variables without using a third variable."
   ]
  },
  {
   "cell_type": "code",
   "execution_count": 4,
   "id": "160ab237-99c6-49cd-8578-b0b19311aecf",
   "metadata": {},
   "outputs": [
    {
     "name": "stdin",
     "output_type": "stream",
     "text": [
      "Enter first number (a):  5\n",
      "Enter second number (b):  89\n"
     ]
    },
    {
     "name": "stdout",
     "output_type": "stream",
     "text": [
      "After swapping:\n",
      "a = 89\n",
      "b = 5\n"
     ]
    }
   ],
   "source": [
    "a = int(input(\"Enter first number (a): \"))\n",
    "b = int(input(\"Enter second number (b): \"))\n",
    "\n",
    "a, b = b, a\n",
    "\n",
    "print(\"After swapping:\")\n",
    "print(\"a =\", a)\n",
    "print(\"b =\", b)\n"
   ]
  },
  {
   "cell_type": "raw",
   "id": "64370b8f-9822-4277-a850-f4102c8b7d1e",
   "metadata": {},
   "source": [
    "5) Write a Python program to print the first 10 numbers of the Fibonacci series"
   ]
  },
  {
   "cell_type": "code",
   "execution_count": 5,
   "id": "efa68bb3-69d9-40ae-b892-d4d43af5fc70",
   "metadata": {},
   "outputs": [
    {
     "name": "stdout",
     "output_type": "stream",
     "text": [
      "0 1 1 2 3 5 8 13 21 34 "
     ]
    }
   ],
   "source": [
    "a, b = 0, 1\n",
    "count = 0\n",
    "\n",
    "while count < 10:\n",
    "    print(a, end=\" \")\n",
    "    a, b = b, a + b\n",
    "    count += 1\n"
   ]
  },
  {
   "cell_type": "raw",
   "id": "59911469-af48-4fd3-be75-02683ee01863",
   "metadata": {},
   "source": [
    "6) Write a Python program to check if a given number is prime or not"
   ]
  },
  {
   "cell_type": "code",
   "execution_count": 6,
   "id": "5c192297-3191-493b-b97d-01ddc040bd7f",
   "metadata": {},
   "outputs": [
    {
     "name": "stdin",
     "output_type": "stream",
     "text": [
      "Enter a number:  67\n"
     ]
    },
    {
     "name": "stdout",
     "output_type": "stream",
     "text": [
      "67 is a prime number.\n"
     ]
    }
   ],
   "source": [
    "num = int(input(\"Enter a number: \"))\n",
    "is_prime = True\n",
    "\n",
    "if num <= 1:\n",
    "    is_prime = False\n",
    "else:\n",
    "    for i in range(2, int(num**0.5) + 1):\n",
    "        if num % i == 0:\n",
    "            is_prime = False\n",
    "            break\n",
    "\n",
    "if is_prime:\n",
    "    print(num, \"is a prime number.\")\n",
    "else:\n",
    "    print(num, \"is not a prime number.\")\n"
   ]
  },
  {
   "cell_type": "raw",
   "id": "46878f2a-cbaa-453e-ab5d-c474fe7f3632",
   "metadata": {},
   "source": [
    "7) Write a Python program that takes three numbers as input and checks if the third number is the\n",
    "sum of the first two numbers using logical operators."
   ]
  },
  {
   "cell_type": "code",
   "execution_count": 7,
   "id": "1859c662-784e-42e0-ad6f-3a6c42908308",
   "metadata": {},
   "outputs": [
    {
     "name": "stdin",
     "output_type": "stream",
     "text": [
      "Enter first number:  78\n",
      "Enter second number:  45\n",
      "Enter third number:  90\n"
     ]
    },
    {
     "name": "stdout",
     "output_type": "stream",
     "text": [
      "The third number is NOT the sum of the first two numbers.\n"
     ]
    }
   ],
   "source": [
    "a = int(input(\"Enter first number: \"))\n",
    "b = int(input(\"Enter second number: \"))\n",
    "c = int(input(\"Enter third number: \"))\n",
    "\n",
    "if c == a + b:\n",
    "    print(\"The third number is the sum of the first two numbers.\")\n",
    "else:\n",
    "    print(\"The third number is NOT the sum of the first two numbers.\")\n"
   ]
  },
  {
   "cell_type": "raw",
   "id": "63d7012c-2263-4d7f-afb4-e674858438ab",
   "metadata": {},
   "source": [
    "8) Write a Python program that imports a custom module you created with a function that returns\n",
    "the factorial of a number"
   ]
  },
  {
   "cell_type": "markdown",
   "id": "ec59cf1d-5fd3-4010-b13e-48e6f5df892d",
   "metadata": {},
   "source": [
    "Step 1: Create a custom module file named mymodule.py"
   ]
  },
  {
   "cell_type": "code",
   "execution_count": null,
   "id": "78771bf5-3b01-4b82-9558-879b57ba1c2e",
   "metadata": {},
   "outputs": [],
   "source": [
    "# mymodule.py\n",
    "\n",
    "def factorial(n):\n",
    "    if n == 0 or n == 1:\n",
    "        return 1\n",
    "    else:\n",
    "        return n * factorial(n - 1)\n"
   ]
  },
  {
   "cell_type": "markdown",
   "id": "53a4b8df-13a4-4f95-82b7-db0dda837bdd",
   "metadata": {},
   "source": [
    "Step 2: Create the main program file that uses the module"
   ]
  },
  {
   "cell_type": "code",
   "execution_count": 10,
   "id": "d4326b8b-a516-49c0-ae54-58e987812156",
   "metadata": {},
   "outputs": [
    {
     "ename": "ModuleNotFoundError",
     "evalue": "No module named 'factorial'",
     "output_type": "error",
     "traceback": [
      "\u001b[1;31m---------------------------------------------------------------------------\u001b[0m",
      "\u001b[1;31mModuleNotFoundError\u001b[0m                       Traceback (most recent call last)",
      "Cell \u001b[1;32mIn[10], line 3\u001b[0m\n\u001b[0;32m      1\u001b[0m \u001b[38;5;66;03m# main.py\u001b[39;00m\n\u001b[1;32m----> 3\u001b[0m \u001b[38;5;28;01mimport\u001b[39;00m\u001b[38;5;250m \u001b[39m\u001b[38;5;21;01mfactorial\u001b[39;00m\n\u001b[0;32m      5\u001b[0m num \u001b[38;5;241m=\u001b[39m \u001b[38;5;28mint\u001b[39m(\u001b[38;5;28minput\u001b[39m(\u001b[38;5;124m\"\u001b[39m\u001b[38;5;124mEnter a number: \u001b[39m\u001b[38;5;124m\"\u001b[39m))\n\u001b[0;32m      6\u001b[0m \u001b[38;5;28mprint\u001b[39m(\u001b[38;5;124m\"\u001b[39m\u001b[38;5;124mFactorial:\u001b[39m\u001b[38;5;124m\"\u001b[39m, mymodule\u001b[38;5;241m.\u001b[39mfactorial(num))\n",
      "\u001b[1;31mModuleNotFoundError\u001b[0m: No module named 'factorial'"
     ]
    }
   ],
   "source": [
    "# main.py\n",
    "\n",
    "import factorial\n",
    "\n",
    "num = int(input(\"Enter a number: \"))\n",
    "print(\"Factorial:\", mymodule.factorial(num))\n"
   ]
  },
  {
   "cell_type": "raw",
   "id": "c151e7cc-dbc7-463b-a713-cb642f0a1e85",
   "metadata": {},
   "source": [
    "9) Write a Python program that takes two numbers as input and performs division, handling the\n",
    "case where the divisor is zero"
   ]
  },
  {
   "cell_type": "code",
   "execution_count": null,
   "id": "38f711b1-61bc-49b0-b1d9-a2520b10b299",
   "metadata": {},
   "outputs": [],
   "source": [
    "num1 = float(input(\"Enter numerator: \"))\n",
    "num2 = float(input(\"Enter denominator: \"))\n",
    "\n",
    "if num2 == 0:\n",
    "    print(\"Error: Cannot divide by zero.\")\n",
    "else:\n",
    "    result = num1 / num2\n",
    "    print(\"Result:\", result)\n"
   ]
  },
  {
   "cell_type": "raw",
   "id": "7dbde972-3c48-4f0a-b0c8-680dd9df74d1",
   "metadata": {},
   "source": [
    "10) Write a Python function that takes a list of numbers and returns the maximum value in the list"
   ]
  },
  {
   "cell_type": "code",
   "execution_count": null,
   "id": "c00ef739-51c4-4255-ac6a-21a7175005c6",
   "metadata": {},
   "outputs": [],
   "source": [
    "def find_max(numbers):\n",
    "    max_value = numbers[0]\n",
    "    for num in numbers:\n",
    "        if num > max_value:\n",
    "            max_value = num\n",
    "    return max_value\n",
    "\n",
    "# Example usage:\n",
    "nums = [3, 7, 2, 9, 5]\n",
    "print(\"Maximum value is:\", find_max(nums))\n"
   ]
  },
  {
   "cell_type": "raw",
   "id": "aa467e2a-23df-4a5c-86c6-a6ec781f8f14",
   "metadata": {},
   "source": [
    "11) Write a Python function that takes a name and an optional age parameter and prints a greeting.\n",
    "If the age is not provided, it should default to 25."
   ]
  },
  {
   "cell_type": "code",
   "execution_count": null,
   "id": "f94df435-b4ae-429b-b013-c078225ec4b1",
   "metadata": {},
   "outputs": [],
   "source": [
    "def greet(name, age=25):\n",
    "    print(f\"Hello, {name}! You are {age} years old.\")\n",
    "\n",
    "# Example usage:\n",
    "greet(\"Alice\")\n",
    "greet(\"Bob\", 30)\n"
   ]
  },
  {
   "cell_type": "raw",
   "id": "c4d6e3d8-8173-4744-8bce-88f9428efce7",
   "metadata": {},
   "source": [
    "12) Write a Python program to count the number of vowels in a given string."
   ]
  },
  {
   "cell_type": "code",
   "execution_count": null,
   "id": "faf0dcd8-ada5-4cbc-bfa7-798f39ae7339",
   "metadata": {},
   "outputs": [],
   "source": [
    "text = input(\"Enter a string: \")\n",
    "vowels = \"aeiouAEIOU\"\n",
    "count = 0\n",
    "\n",
    "for char in text:\n",
    "    if char in vowels:\n",
    "        count += 1\n",
    "\n",
    "print(\"Number of vowels:\", count)\n"
   ]
  },
  {
   "cell_type": "raw",
   "id": "9bf5c1e0-9fb8-412c-93d1-65d44fed0ad4",
   "metadata": {},
   "source": [
    "13) Write a Python program that prints a multiplication table up to (numberx10)."
   ]
  },
  {
   "cell_type": "code",
   "execution_count": null,
   "id": "13bb9d88-9260-4f3b-8112-1c49ede21783",
   "metadata": {},
   "outputs": [],
   "source": [
    "num = int(input(\"Enter a number: \"))\n",
    "\n",
    "for i in range(1, 11):\n",
    "    print(f\"{num} x {i} = {num * i}\")\n"
   ]
  },
  {
   "cell_type": "raw",
   "id": "8466df18-6095-4e21-82e6-3a034d550411",
   "metadata": {},
   "source": [
    "14) Write a Python program to print a right-angled triangle of '*' with a given number of rows. For\n",
    "example, if the number of rows is 5, the output should be:\n",
    "*\n",
    "**\n",
    "***\n",
    "****\n",
    "*****"
   ]
  },
  {
   "cell_type": "code",
   "execution_count": null,
   "id": "53cbc4af-143a-4b69-adb7-b0db4c5012d2",
   "metadata": {},
   "outputs": [],
   "source": [
    "rows = int(input(\"Enter number of rows: \"))\n",
    "\n",
    "for i in range(1, rows + 1):\n",
    "    print(\"*\" * i)\n"
   ]
  },
  {
   "cell_type": "raw",
   "id": "79d8a0e0-5661-43ae-867b-a77e7db78683",
   "metadata": {},
   "source": [
    "15) Write a Python program to print a pyramid of '*' with a given number of rows. For example, if\n",
    "the number of rows is 5, the output should be:\n",
    "*\n",
    " ***\n",
    " *****\n",
    "*******\n",
    "*********"
   ]
  },
  {
   "cell_type": "code",
   "execution_count": null,
   "id": "10ad1339-779a-420c-a8bf-6e91b2088a53",
   "metadata": {},
   "outputs": [],
   "source": [
    "rows = int(input(\"Enter number of rows: \"))\n",
    "\n",
    "for i in range(rows):\n",
    "    # print spaces\n",
    "    print(\" \" * (rows - i - 1), end=\"\")\n",
    "    # print stars: 2*i + 1 stars in each row\n",
    "    print(\"*\" * (2 * i + 1))\n"
   ]
  },
  {
   "cell_type": "markdown",
   "id": "68d0f975-035c-48fd-ab80-fdfdda065c33",
   "metadata": {},
   "source": [
    "                                                                            SET B"
   ]
  },
  {
   "cell_type": "raw",
   "id": "5c859eea-be09-4494-820d-3cdc92194777",
   "metadata": {},
   "source": [
    "1) Given an integer x, return true if x is a palindrome, and false otherwise. (LeetCode: Palindrome\n",
    "Number)\n"
   ]
  },
  {
   "cell_type": "code",
   "execution_count": null,
   "id": "a8e53125-7eff-491f-89bf-0bd40a983484",
   "metadata": {},
   "outputs": [],
   "source": [
    "def is_palindrome(x):\n",
    "    x_str = str(x)\n",
    "    return x_str == x_str[::-1]\n",
    "\n",
    "# Example usage:\n",
    "num = int(input(\"Enter a number: \"))\n",
    "print(is_palindrome(num))\n"
   ]
  },
  {
   "cell_type": "raw",
   "id": "607b1f3e-a482-473b-bdd2-a7b19213d174",
   "metadata": {},
   "source": [
    "2) Given a non-empty array of integers nums, every element appears twice except for one. Find\n",
    "that single one. (LeetCode: Single Number)"
   ]
  },
  {
   "cell_type": "code",
   "execution_count": null,
   "id": "02066c93-439e-45a2-8d68-b3e84f8c04e1",
   "metadata": {},
   "outputs": [],
   "source": [
    "def single_number(nums):\n",
    "    result = 0\n",
    "    for num in nums:\n",
    "        result ^= num  # XOR operation\n",
    "    return result\n",
    "\n",
    "# Example usage:\n",
    "nums = [2, 2, 1, 4, 1, 4, 5]\n",
    "print(single_number(nums))  # Output: 5\n"
   ]
  },
  {
   "cell_type": "raw",
   "id": "b1dfa837-b4e6-4e0d-8fba-a9e27079d5a6",
   "metadata": {},
   "source": [
    "3) Given an array of integers nums and an integer target, return indices of the two numbers such\n",
    "that they add up to target. You may assume that each input would have exactly one solution,\n",
    "and you may not use the same element twice. You can return the answer in any order.\n",
    "(LeetCode: Two Sum)"
   ]
  },
  {
   "cell_type": "code",
   "execution_count": null,
   "id": "0edb5ca9-642a-45da-b38a-4e374182f894",
   "metadata": {},
   "outputs": [],
   "source": [
    "def two_sum(nums, target):\n",
    "    seen = {}\n",
    "    for i, num in enumerate(nums):\n",
    "        diff = target - num\n",
    "        if diff in seen:\n",
    "            return [seen[diff], i]\n",
    "        seen[num] = i\n",
    "\n",
    "# Example usage:\n",
    "nums = [2, 7, 11, 15]\n",
    "target = 9\n",
    "print(two_sum(nums, target))  # Output: [0, 1]\n"
   ]
  },
  {
   "cell_type": "raw",
   "id": "f5655829-4d47-4db9-8045-4d485b8fd2f1",
   "metadata": {},
   "source": [
    "4) Write an algorithm to determine if a number n is happy. (LeetCode: Happy Number)\n"
   ]
  },
  {
   "cell_type": "code",
   "execution_count": null,
   "id": "29f5c95a-3da6-417c-90c4-bf9830792825",
   "metadata": {},
   "outputs": [],
   "source": [
    "def is_happy(n):\n",
    "    def get_next(number):\n",
    "        total_sum = 0\n",
    "        while number > 0:\n",
    "            digit = number % 10\n",
    "            total_sum += digit ** 2\n",
    "            number //= 10\n",
    "        return total_sum\n",
    "\n",
    "    seen = set()\n",
    "    while n != 1 and n not in seen:\n",
    "        seen.add(n)\n",
    "        n = get_next(n)\n",
    "    return n == 1\n",
    "\n",
    "# Example usage:\n",
    "num = int(input(\"Enter a number: \"))\n",
    "print(is_happy(num))\n"
   ]
  },
  {
   "cell_type": "raw",
   "id": "5919903a-e752-4562-8768-cafce62e0df3",
   "metadata": {},
   "source": [
    "\n",
    "5) Given an integer array nums, return true if any value appears at least twice in the array, and\n",
    "return false if every element is distinct. (LeetCode: Contains Duplicate)"
   ]
  },
  {
   "cell_type": "code",
   "execution_count": null,
   "id": "0270175b-1cf0-4db8-93fa-c84d2a5972ec",
   "metadata": {},
   "outputs": [],
   "source": [
    "def contains_duplicate(nums):\n",
    "    seen = set()\n",
    "    for num in nums:\n",
    "        if num in seen:\n",
    "            return True\n",
    "        seen.add(num)\n",
    "    return False\n",
    "\n",
    "# Example usage:\n",
    "nums = [1, 2, 3, 1]\n",
    "print(contains_duplicate(nums))  # Output: True\n",
    "\n"
   ]
  }
 ],
 "metadata": {
  "kernelspec": {
   "display_name": "Python 3 (ipykernel)",
   "language": "python",
   "name": "python3"
  },
  "language_info": {
   "codemirror_mode": {
    "name": "ipython",
    "version": 3
   },
   "file_extension": ".py",
   "mimetype": "text/x-python",
   "name": "python",
   "nbconvert_exporter": "python",
   "pygments_lexer": "ipython3",
   "version": "3.10.18"
  }
 },
 "nbformat": 4,
 "nbformat_minor": 5
}
